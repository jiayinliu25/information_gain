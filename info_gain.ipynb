{
 "cells": [
  {
   "cell_type": "code",
   "execution_count": 7,
   "metadata": {},
   "outputs": [],
   "source": [
    "import math"
   ]
  },
  {
   "cell_type": "code",
   "execution_count": 8,
   "metadata": {},
   "outputs": [],
   "source": [
    "def entropy_cal(probs):\n",
    "        res = 0\n",
    "        for p in probs:\n",
    "            res += p*math.log(p)\n",
    "        return -res"
   ]
  },
  {
   "cell_type": "code",
   "execution_count": 9,
   "metadata": {},
   "outputs": [
    {
     "ename": "NameError",
     "evalue": "name 'al' is not defined",
     "output_type": "error",
     "traceback": [
      "\u001b[0;31m---------------------------------------------------------------------------\u001b[0m",
      "\u001b[0;31mNameError\u001b[0m                                 Traceback (most recent call last)",
      "Cell \u001b[0;32mIn[9], line 9\u001b[0m\n\u001b[1;32m      5\u001b[0m             res \u001b[39m+\u001b[39m\u001b[39m=\u001b[39m p\u001b[39m*\u001b[39mmath\u001b[39m.\u001b[39mlog(p)\n\u001b[1;32m      6\u001b[0m         \u001b[39mreturn\u001b[39;00m \u001b[39m-\u001b[39mres\n\u001b[0;32m----> 9\u001b[0m series1, series2 \u001b[39m=\u001b[39m al[name1], al[name2]\n\u001b[1;32m     11\u001b[0m probs \u001b[39m=\u001b[39m []\n\u001b[1;32m     12\u001b[0m numvars \u001b[39m=\u001b[39m series1\u001b[39m.\u001b[39munique()\n",
      "\u001b[0;31mNameError\u001b[0m: name 'al' is not defined"
     ]
    }
   ],
   "source": [
    "def prob_calt(al, name1, name2):\n",
    "    def entropy_cal(probs):\n",
    "        res = 0\n",
    "        for p in probs:\n",
    "            res += p*math.log(p)\n",
    "        return -res\n",
    "    \n",
    "    \n",
    "series1, series2 = al[name1], al[name2]\n",
    "    \n",
    "probs = []\n",
    "numvars = series1.unique()\n",
    "series1_list = list(series1)\n",
    "for var in numvars:\n",
    "    e = series1_list.count(var)/len(series1_list)\n",
    "    probs.append(e)\n",
    "\n",
    "entropy1 = entropy_cal(probs)    \n",
    "    \n",
    "entropy2 = 0\n",
    "numTotal = len(series2)\n",
    "pe = {k: g[name1].tolist() for k,g in al.groupby(name2)}\n",
    "for var2 in pe:\n",
    "    prior = len(pe[var2])/numTotal\n",
    "    numvars1 = set(pe[var2])\n",
    "    probs = []\n",
    "    for var1 in numvars1:\n",
    "        e = pe[var2].count(var1)/len(pe[var2])\n",
    "        probs.append(e)\n",
    "cond_entropy = entropy_cal(probs)            \n",
    "entropy2 += prior * cond_entropy   \n",
    "\n",
    "\"\"\" \n",
    "    numvars2 = series2.unique()\n",
    "    series2_list = list(series2)\n",
    "    numTotal = len(series2_list)\n",
    "    \n",
    "    pe = {k: g[\"0\"].tolist() for k,g in al.groupby(\"COUNTRY\")}\n",
    "    \n",
    "    for var in numvars2:\n",
    "        prior = series2_list.count(var)/numTotal\n",
    "        \n",
    "        # Calculating conditional entropy for var\n",
    "        cond_series1 = series1[series2==var]\n",
    "        numvars1 = cond_series1.unique()\n",
    "        cond_series1_list = list(cond_series1)\n",
    "        probs = []\n",
    "        for var1 in numvars1:\n",
    "            e = cond_series1_list.count(var1)/len(cond_series1_list)\n",
    "            probs.append(e)\n",
    "        cond_entropy = entropy_cal(probs)          \n",
    "    entropy2 += prior * cond_entropy\n",
    "\"\"\" \n",
    "\n",
    "\"\"\"\n",
    "    lis2 = input('name of the second col:')\n",
    "    col2_list = al[\"{}\".format(lis2)].tolist()\n",
    "    numvar2 = set(col2_list)\n",
    "    tolnun2 = []\n",
    "    for vars in numvar2:\n",
    "        p = (al[al[lis2].str.contains(vars)])\n",
    "        tolnun2.append(len(p))\n",
    "    \n",
    "    probs2 = []\n",
    "    for vars in numvar2:\n",
    "        en = col2_list.count(vars)/len(col2_list)\n",
    "        probs2.append(en)\n",
    "        p = (al[al['{}'.format(lis2)].str.contains('vars')])\n",
    "\"\"\""
   ]
  }
 ],
 "metadata": {
  "kernelspec": {
   "display_name": "base",
   "language": "python",
   "name": "python3"
  },
  "language_info": {
   "codemirror_mode": {
    "name": "ipython",
    "version": 3
   },
   "file_extension": ".py",
   "mimetype": "text/x-python",
   "name": "python",
   "nbconvert_exporter": "python",
   "pygments_lexer": "ipython3",
   "version": "3.11.3"
  },
  "orig_nbformat": 4
 },
 "nbformat": 4,
 "nbformat_minor": 2
}
